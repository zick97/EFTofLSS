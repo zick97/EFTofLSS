{
 "cells": [
  {
   "cell_type": "markdown",
   "metadata": {},
   "source": [
    "This notebook implements the full working process to deal with different chains and compare the results."
   ]
  },
  {
   "cell_type": "code",
   "execution_count": 5,
   "metadata": {},
   "outputs": [],
   "source": [
    "import os, sys\n",
    "# Define chain folder\n",
    "chain_dir = os.path.join(os.getcwd(), 'chains/perlmutter/')\n",
    "import numpy as np\n",
    "%matplotlib inline\n",
    "%config InlineBackend.figure_format = 'svg'\n",
    "import matplotlib\n",
    "import matplotlib.pyplot as plt\n",
    "import yaml\n",
    "\n",
    "from getdist import loadMCSamples, plots, mcsamples, MCSamples\n",
    "from python_scripts.prior import *"
   ]
  },
  {
   "cell_type": "markdown",
   "metadata": {},
   "source": [
    "#### 1. Prior Sampling using the `prior` module\n",
    "Details on the arguments of the `prior` class:\n",
    "- `root_dir`: the directory containing the specific text file(s) used to build the MCSamples chain.\n",
    "- `chain_name`: the name (excluding the extension) of the chain file(s), e.g. */YYYY-MM-DD_nsteps_*.\n",
    "\n",
    "In order to get the nuisance parameter's prior, remember to copy the `.yaml` configuration file given by PyBird inside the chain folder! Here you have to set the argument:\n",
    "- `config_name`: the name (excluding the extension) of the configuration file, e.g. */boss_pk_wc*."
   ]
  },
  {
   "cell_type": "code",
   "execution_count": 6,
   "metadata": {},
   "outputs": [],
   "source": [
    "posterior = loadMCSamples(file_root=chain_dir+'/eftboss_dr12_wc/2023-11-22_10000_', settings={'ignore_rows':0.3})\n",
    "posterior.name_tag = 'BOSS standard WC'\n",
    "\n",
    "# Initialize the prior chains\n",
    "prior = priorChain(root_dir=chain_dir+'/eftboss_dr12_wc', chain_name='/2023-11-22_10000_')"
   ]
  },
  {
   "cell_type": "code",
   "execution_count": 8,
   "metadata": {},
   "outputs": [
    {
     "name": "stdout",
     "output_type": "stream",
     "text": [
      "Removed 0.3 as burn in\n"
     ]
    }
   ],
   "source": [
    "cosmo_prior = prior.get_cosmo_prior()"
   ]
  },
  {
   "cell_type": "code",
   "execution_count": 7,
   "metadata": {},
   "outputs": [
    {
     "name": "stdout",
     "output_type": "stream",
     "text": [
      "Removed 0.3 as burn in\n"
     ]
    }
   ],
   "source": [
    "nuisance_prior = prior.get_nuisance_prior(config_name='/boss_pk_wc')"
   ]
  }
 ],
 "metadata": {
  "kernelspec": {
   "display_name": "Python 3",
   "language": "python",
   "name": "python3"
  },
  "language_info": {
   "codemirror_mode": {
    "name": "ipython",
    "version": 3
   },
   "file_extension": ".py",
   "mimetype": "text/x-python",
   "name": "python",
   "nbconvert_exporter": "python",
   "pygments_lexer": "ipython3",
   "version": "3.10.12"
  }
 },
 "nbformat": 4,
 "nbformat_minor": 2
}

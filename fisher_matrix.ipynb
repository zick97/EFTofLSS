{
 "cells": [
  {
   "cell_type": "code",
   "execution_count": 36,
   "metadata": {},
   "outputs": [
    {
     "name": "stdout",
     "output_type": "stream",
     "text": [
      "List of \"cosmological\" parameters: ['omega_b', 'omega_cdm', 'h', 'ln10^{10}A_s', 'n_s']\n",
      "     List of \"derived\" parameters: ['Omega_m', 'A_s', 'sigma8']\n"
     ]
    }
   ],
   "source": [
    "import os, sys\n",
    "import numpy as np\n",
    "%matplotlib inline\n",
    "%config InlineBackend.figure_format = 'svg'\n",
    "import matplotlib\n",
    "import matplotlib.pyplot as plt\n",
    "import yaml\n",
    "\n",
    "from getdist import loadMCSamples, plots, mcsamples, MCSamples\n",
    "from tensiometer import utilities\n",
    "from tensiometer import gaussian_tension\n",
    "\n",
    "chain_dir = os.path.join(os.getcwd(), 'chains')\n",
    "\n",
    "prior = loadMCSamples(file_root=chain_dir+'/lcdm_eftboss/2023-10-12_10000_cosmo_prior_', \n",
    "                          settings={'ignore_rows':0., 'smooth_scale_1D':-1, 'smooth_scale_2D':-1})\n",
    "prior.name_tag = 'BOSS Prior'\n",
    "# Check completeness\n",
    "print(f'List of \\\"cosmological\\\" parameters: {prior.getParamNames().getRunningNames()}')\n",
    "print(f'     List of \\\"derived\\\" parameters: {prior.getParamNames().getDerivedNames()}')"
   ]
  },
  {
   "cell_type": "code",
   "execution_count": 37,
   "metadata": {},
   "outputs": [],
   "source": [
    "# Repeat the process for the posterior\n",
    "posterior = loadMCSamples(file_root=chain_dir+'/lcdm_eftboss/2023-10-12_10000_',\n",
    "                          settings={'ignore_rows':0.3, 'smooth_scale_1D':-1, 'smooth_scale_2D':-1})\n",
    "posterior.name_tag = 'BOSS'"
   ]
  },
  {
   "cell_type": "code",
   "execution_count": 38,
   "metadata": {},
   "outputs": [
    {
     "name": "stdout",
     "output_type": "stream",
     "text": [
      "N_eff =  4.37759806706756\n"
     ]
    }
   ],
   "source": [
    "from tensiometer import utilities\n",
    "from tensiometer import gaussian_tension\n",
    "\n",
    "# Re-definition of cosmo_params to match the Tensiometer example\n",
    "params = ['h', 'omega_cdm', 'n_s', 'ln10^{10}A_s', 'Omega_m', 'sigma8']\n",
    "labels = ['h', '\\omega_{cdm}', 'n_s', '\\ln{10^{10}A_s}', '\\Omega_m', '\\sigma_8']\n",
    "\n",
    "print('N_eff = ', gaussian_tension.get_Neff(posterior, prior_chain=prior, param_names=params))"
   ]
  },
  {
   "cell_type": "code",
   "execution_count": 39,
   "metadata": {},
   "outputs": [
    {
     "name": "stderr",
     "output_type": "stream",
     "text": [
      "WARNING:root:outlier fraction 0.1342828077314344 \n"
     ]
    },
    {
     "name": "stdout",
     "output_type": "stream",
     "text": [
      "N_eff =  4.0021382901837805\n"
     ]
    }
   ],
   "source": [
    "# Checkpoint: run this cell to refresh the chains\n",
    "prior_chain = prior.copy()\n",
    "posterior_chain = posterior.copy()\n",
    "\n",
    "# Take the logarithm of the parameters: KL decomposition -> power-law decomposition\n",
    "log_params = []\n",
    "log_labels = []\n",
    "for name, label in zip(params, labels):\n",
    "    for chain in [prior_chain, posterior_chain]:\n",
    "        p = chain.getParams()\n",
    "        method = getattr(p, name)\n",
    "        chain.addDerived(np.log(method), name='log_'+name, label='\\\\log '+label)\n",
    "    log_params += ['log_'+name]\n",
    "    log_labels += ['\\\\log '+label]\n",
    "\n",
    "print('N_eff = ', gaussian_tension.get_Neff(posterior_chain, prior_chain=prior_chain, param_names=log_params))"
   ]
  },
  {
   "cell_type": "code",
   "execution_count": 40,
   "metadata": {},
   "outputs": [
    {
     "name": "stdout",
     "output_type": "stream",
     "text": [
      "Improvement factor over the prior: [53.47 15.51  9.25  5.19  1.63  0.81]\n",
      "Discarding error units due to negative values.\n"
     ]
    }
   ],
   "source": [
    "# Compute the KL modes\n",
    "KL_param_names = log_params\n",
    "KL_eig, KL_eigv, KL_param_names = gaussian_tension.Q_UDM_KL_components(prior_chain, posterior_chain, \n",
    "                                                                    param_names=KL_param_names)\n",
    "\n",
    "with np.printoptions(precision=2, suppress=True):\n",
    "    if any(eig < 1. for eig in KL_eig):\n",
    "        print('Improvement factor over the prior:', KL_eig)\n",
    "        print('Discarding error units due to negative values.')\n",
    "    else:\n",
    "        print('Improvement factor over the prior in E.U.:', np.sqrt(KL_eig-1))"
   ]
  },
  {
   "cell_type": "code",
   "execution_count": 53,
   "metadata": {},
   "outputs": [
    {
     "name": "stdout",
     "output_type": "stream",
     "text": [
      "Row 0: 1.0\tCol 0: 0.021\n",
      "Row 1: 1.0\tCol 1: 1.3\n",
      "Row 2: 1.0\tCol 2: 0.068\n",
      "Row 3: 1.0\tCol 3: 0.63\n",
      "Row 4: 1.0\tCol 4: 0.19\n",
      "Row 5: 1.0\tCol 5: 0.019\n",
      "Sum = 6.0\tSum = 6.0\n"
     ]
    }
   ],
   "source": [
    "# Compute the fractional Fisher Matrix\n",
    "KL_param_names, KL_eig, fractional_fisher, _ = gaussian_tension.Q_UDM_fisher_components(prior_chain, posterior_chain, \n",
    "                                                                                        params, \n",
    "                                                                                        which='12')\n",
    "# Columns do not sum up to 1\n",
    "temp_row = 0\n",
    "temp_col = 0\n",
    "for i in range(len(fractional_fisher)):\n",
    "    print(f'Row {i}: {sum(fractional_fisher[i,:]):.2}', end='\\t')\n",
    "    temp_row += sum(fractional_fisher[i,:])\n",
    "    print(f'Col {i}: {sum(fractional_fisher[:,i]):.2}')\n",
    "    temp_col += sum(fractional_fisher[:,i])\n",
    "print(f'Sum = {temp_row:.2}\\tSum = {temp_col:.2}')"
   ]
  }
 ],
 "metadata": {
  "kernelspec": {
   "display_name": "Python 3",
   "language": "python",
   "name": "python3"
  },
  "language_info": {
   "codemirror_mode": {
    "name": "ipython",
    "version": 3
   },
   "file_extension": ".py",
   "mimetype": "text/x-python",
   "name": "python",
   "nbconvert_exporter": "python",
   "pygments_lexer": "ipython3",
   "version": "3.10.12"
  }
 },
 "nbformat": 4,
 "nbformat_minor": 2
}
